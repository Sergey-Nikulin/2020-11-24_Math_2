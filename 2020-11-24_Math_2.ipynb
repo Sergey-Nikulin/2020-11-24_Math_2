{
 "cells": [
  {
   "cell_type": "markdown",
   "metadata": {},
   "source": [
    "### Домашнее задание \"Линейная алгебра. Матрицы\".\n",
    "#### Уровень 0:\n",
    "Создайте матрицу 3 на 3, заполненную числами от 1 до 9\n",
    "Прибавьте к ней матрицу с единицами на диагонале\n",
    "Умножьте полученную матрицу на вектор (1, 2, 3)\n",
    "Посчитайте обратную матрицу к полученной матрице\n"
   ]
  },
  {
   "cell_type": "code",
   "execution_count": 70,
   "metadata": {},
   "outputs": [],
   "source": [
    "import numpy as np"
   ]
  },
  {
   "cell_type": "code",
   "execution_count": 71,
   "metadata": {},
   "outputs": [
    {
     "data": {
      "text/plain": [
       "array([[0, 1, 2, 3, 4, 5, 6, 7, 8]])"
      ]
     },
     "execution_count": 71,
     "metadata": {},
     "output_type": "execute_result"
    }
   ],
   "source": [
    "np.full([1, 9], range(9))"
   ]
  },
  {
   "cell_type": "code",
   "execution_count": 72,
   "metadata": {},
   "outputs": [
    {
     "data": {
      "text/plain": [
       "array([[1, 2, 3],\n",
       "       [4, 5, 6],\n",
       "       [7, 8, 9]])"
      ]
     },
     "execution_count": 72,
     "metadata": {},
     "output_type": "execute_result"
    }
   ],
   "source": [
    "x = np.arange( 1, 10 )\n",
    "x_3 = x.reshape(3, 3)\n",
    "x_3"
   ]
  },
  {
   "cell_type": "code",
   "execution_count": 73,
   "metadata": {},
   "outputs": [
    {
     "data": {
      "text/plain": [
       "array([[1., 0., 0.],\n",
       "       [0., 1., 0.],\n",
       "       [0., 0., 1.]])"
      ]
     },
     "execution_count": 73,
     "metadata": {},
     "output_type": "execute_result"
    }
   ],
   "source": [
    "x_0 = np.eye(3)\n",
    "x_0"
   ]
  },
  {
   "cell_type": "code",
   "execution_count": 74,
   "metadata": {},
   "outputs": [
    {
     "data": {
      "text/plain": [
       "array([[ 2.,  2.,  3.],\n",
       "       [ 4.,  6.,  6.],\n",
       "       [ 7.,  8., 10.]])"
      ]
     },
     "execution_count": 74,
     "metadata": {},
     "output_type": "execute_result"
    }
   ],
   "source": [
    "z = x_3 + x_0\n",
    "z"
   ]
  },
  {
   "cell_type": "code",
   "execution_count": 75,
   "metadata": {},
   "outputs": [
    {
     "data": {
      "text/plain": [
       "array([1, 2, 3])"
      ]
     },
     "execution_count": 75,
     "metadata": {},
     "output_type": "execute_result"
    }
   ],
   "source": [
    "y = np.array([1, 2, 3])\n",
    "y"
   ]
  },
  {
   "cell_type": "code",
   "execution_count": 84,
   "metadata": {},
   "outputs": [
    {
     "data": {
      "text/plain": [
       "array([15., 34., 53.])"
      ]
     },
     "execution_count": 84,
     "metadata": {},
     "output_type": "execute_result"
    }
   ],
   "source": [
    "# p = z.dot(y)\n",
    "p = z @ y\n",
    "p # при умножении матрицы на вектор получается вектор, у кoторого число строк равно числу строк матрицы."
   ]
  },
  {
   "cell_type": "code",
   "execution_count": 87,
   "metadata": {},
   "outputs": [],
   "source": [
    "a = np.linalg.inv(p) # найти обратную матрицу у вектора невозможно, т.к. нужна квадратная матрица.\n"
   ]
  },
  {
   "cell_type": "code",
   "execution_count": 173,
   "metadata": {},
   "outputs": [
    {
     "data": {
      "text/plain": [
       "array([[-6.00000000e+00, -2.00000000e+00,  3.00000000e+00],\n",
       "       [-1.00000000e+00,  5.00000000e-01,  2.22044605e-17],\n",
       "       [ 5.00000000e+00,  1.00000000e+00, -2.00000000e+00]])"
      ]
     },
     "execution_count": 173,
     "metadata": {},
     "output_type": "execute_result"
    }
   ],
   "source": [
    "# Обратную матрицу получил из матрицы z\n",
    "a = np.linalg.inv(z)\n",
    "a"
   ]
  },
  {
   "cell_type": "code",
   "execution_count": 176,
   "metadata": {},
   "outputs": [
    {
     "data": {
      "text/plain": [
       "array([[1.00000000e+00, 0.00000000e+00, 8.88178420e-16],\n",
       "       [1.55431223e-16, 1.00000000e+00, 2.22044605e-16],\n",
       "       [1.33226763e-15, 0.00000000e+00, 1.00000000e+00]])"
      ]
     },
     "execution_count": 176,
     "metadata": {},
     "output_type": "execute_result"
    }
   ],
   "source": [
    "a @ z"
   ]
  },
  {
   "cell_type": "code",
   "execution_count": 177,
   "metadata": {},
   "outputs": [
    {
     "data": {
      "text/plain": [
       "array([[ 1.00000000e+00, -2.22044605e-16,  4.44089210e-16],\n",
       "       [-1.77635684e-15,  1.00000000e+00,  8.88178420e-16],\n",
       "       [-1.77635684e-15,  4.44089210e-16,  1.00000000e+00]])"
      ]
     },
     "execution_count": 177,
     "metadata": {},
     "output_type": "execute_result"
    }
   ],
   "source": [
    "z @ a"
   ]
  },
  {
   "cell_type": "code",
   "execution_count": null,
   "metadata": {},
   "outputs": [],
   "source": []
  },
  {
   "cell_type": "markdown",
   "metadata": {},
   "source": [
    "#### Уровень 1:\n",
    "Дан объект в 2d пространстве:\n",
    "\n",
    "import numpy as np import matplotlib.pyplot as plt\n",
    "\n",
    "A = [ [-100, -100, 1], [-100, 100, 1], [100, 100, 1], [0, 0, 1], [100, -100, 1], [-100, -100, 1] ]\n",
    "\n",
    "A = np.array(A) x = A[:,0] y = A[:,1]\n",
    "\n",
    "plt.plot(x, y) plt.ylim([-200, 200]) plt.xlim([-200, 200]) \n",
    "\n",
    "При помощи матричных операций выполните:\n",
    "\n",
    "- Уменьшить объект в два раза \n",
    "- Повернуть на 130 градусов \n",
    "- Отразить объект относительно прямой y=x \n",
    "- Выполнить смещение объекта и масштабирование (применить 2 матрицы трансформаций). \n",
    "- Смещение на (200, 300) и масштабирование на (0.5, 1.2)"
   ]
  },
  {
   "cell_type": "code",
   "execution_count": 179,
   "metadata": {},
   "outputs": [],
   "source": [
    "import matplotlib.pyplot as plt"
   ]
  },
  {
   "cell_type": "code",
   "execution_count": 180,
   "metadata": {},
   "outputs": [
    {
     "data": {
      "text/plain": [
       "(array([-100, -100,  100,    0,  100, -100]),\n",
       " array([-100,  100,  100,    0, -100, -100]))"
      ]
     },
     "execution_count": 180,
     "metadata": {},
     "output_type": "execute_result"
    }
   ],
   "source": [
    "A = [ [-100, -100, 1], [-100, 100, 1], [100, 100, 1], [0, 0, 1], [100, -100, 1], [-100, -100, 1] ]\n",
    "\n",
    "A = np.array(A) \n",
    "x = A[:,0] \n",
    "y = A[:,1]\n",
    "\n",
    "x, y\n"
   ]
  },
  {
   "cell_type": "code",
   "execution_count": 181,
   "metadata": {},
   "outputs": [
    {
     "data": {
      "text/plain": [
       "array([[-100, -100,    1],\n",
       "       [-100,  100,    1],\n",
       "       [ 100,  100,    1],\n",
       "       [   0,    0,    1],\n",
       "       [ 100, -100,    1],\n",
       "       [-100, -100,    1]])"
      ]
     },
     "execution_count": 181,
     "metadata": {},
     "output_type": "execute_result"
    }
   ],
   "source": [
    "A"
   ]
  },
  {
   "cell_type": "code",
   "execution_count": 182,
   "metadata": {},
   "outputs": [
    {
     "data": {
      "text/plain": [
       "(-200, 200)"
      ]
     },
     "execution_count": 182,
     "metadata": {},
     "output_type": "execute_result"
    },
    {
     "data": {
      "image/png": "[encoded data removed]",
      "text/plain": [
       "<Figure size 432x288 with 1 Axes>"
      ]
     },
     "metadata": {
      "needs_background": "light"
     },
     "output_type": "display_data"
    }
   ],
   "source": [
    "plt.plot(x, y) \n",
    "plt.ylim([-200, 200]) \n",
    "plt.xlim([-200, 200])"
   ]
  },
  {
   "cell_type": "code",
   "execution_count": 190,
   "metadata": {},
   "outputs": [
    {
     "name": "stdout",
     "output_type": "stream",
     "text": [
      "[[-50 -50   1]\n",
      " [-50  50   1]\n",
      " [ 50  50   1]\n",
      " [  0   0   1]\n",
      " [ 50 -50   1]\n",
      " [-50 -50   1]]\n"
     ]
    }
   ],
   "source": [
    "TransformArray = np.array([\n",
    "    [0.5, 0, 0],\n",
    "    [0, 0.5, 0],\n",
    "    [0, 0, 1]\n",
    "])\n",
    "B = []\n",
    "for point in A:\n",
    "    new_point=np.dot(TransformArray,np.transpose(point))\n",
    "    B.append(new_point)\n",
    "\n",
    "B = np.array(B).astype(int)\n",
    "print(B)\n"
   ]
  },
  {
   "cell_type": "code",
   "execution_count": 191,
   "metadata": {},
   "outputs": [
    {
     "data": {
      "text/plain": [
       "<matplotlib.legend.Legend at 0x1ee543a6848>"
      ]
     },
     "execution_count": 191,
     "metadata": {},
     "output_type": "execute_result"
    },
    {
     "data": {
      "image/png": "[encoded data removed]",
      "text/plain": [
       "<Figure size 432x288 with 1 Axes>"
      ]
     },
     "metadata": {
      "needs_background": "light"
     },
     "output_type": "display_data"
    }
   ],
   "source": [
    "x = A[:,0]\n",
    "y = A[:,1]\n",
    "plt.plot(x, y, color='r')\n",
    "x = B[:,0]\n",
    "y = B[:,1]\n",
    "plt.plot(x, y, color='b')\n",
    "plt.ylim([-200, 200])\n",
    "plt.xlim([-200, 200])\n",
    "plt.legend(['Исходный', 'Новый'])"
   ]
  },
  {
   "cell_type": "code",
   "execution_count": null,
   "metadata": {},
   "outputs": [],
   "source": []
  },
  {
   "cell_type": "code",
   "execution_count": null,
   "metadata": {},
   "outputs": [],
   "source": []
  },
  {
   "cell_type": "code",
   "execution_count": null,
   "metadata": {},
   "outputs": [],
   "source": []
  },
  {
   "cell_type": "code",
   "execution_count": null,
   "metadata": {},
   "outputs": [],
   "source": []
  },
  {
   "cell_type": "code",
   "execution_count": null,
   "metadata": {},
   "outputs": [],
   "source": []
  },
  {
   "cell_type": "code",
   "execution_count": 156,
   "metadata": {},
   "outputs": [],
   "source": [
    "# Уменьшить объект в два раза\n",
    "x = x/2\n",
    "y = y/2"
   ]
  },
  {
   "cell_type": "code",
   "execution_count": 157,
   "metadata": {},
   "outputs": [
    {
     "data": {
      "text/plain": [
       "(-200, 200)"
      ]
     },
     "execution_count": 157,
     "metadata": {},
     "output_type": "execute_result"
    },
    {
     "data": {
      "image/png": "[encoded data removed]",
      "text/plain": [
       "<Figure size 432x288 with 1 Axes>"
      ]
     },
     "metadata": {
      "needs_background": "light"
     },
     "output_type": "display_data"
    }
   ],
   "source": [
    "plt.plot(x, y) \n",
    "plt.ylim([-200, 200]) \n",
    "plt.xlim([-200, 200])"
   ]
  },
  {
   "cell_type": "code",
   "execution_count": null,
   "metadata": {},
   "outputs": [],
   "source": []
  },
  {
   "cell_type": "code",
   "execution_count": null,
   "metadata": {},
   "outputs": [],
   "source": []
  },
  {
   "cell_type": "code",
   "execution_count": null,
   "metadata": {},
   "outputs": [],
   "source": []
  },
  {
   "cell_type": "code",
   "execution_count": null,
   "metadata": {},
   "outputs": [],
   "source": []
  },
  {
   "cell_type": "code",
   "execution_count": null,
   "metadata": {},
   "outputs": [],
   "source": []
  },
  {
   "cell_type": "code",
   "execution_count": null,
   "metadata": {},
   "outputs": [],
   "source": []
  },
  {
   "cell_type": "code",
   "execution_count": null,
   "metadata": {},
   "outputs": [],
   "source": []
  },
  {
   "cell_type": "code",
   "execution_count": 158,
   "metadata": {},
   "outputs": [
    {
     "data": {
      "text/plain": [
       "(-400, 400)"
      ]
     },
     "execution_count": 158,
     "metadata": {},
     "output_type": "execute_result"
    },
    {
     "data": {
      "image/png": "[encoded data removed]",
      "text/plain": [
       "<Figure size 432x288 with 1 Axes>"
      ]
     },
     "metadata": {
      "needs_background": "light"
     },
     "output_type": "display_data"
    }
   ],
   "source": [
    "plt.plot(x, y)\n",
    "plt.ylim([-400, 400]) \n",
    "plt.xlim([-400, 400])"
   ]
  },
  {
   "cell_type": "code",
   "execution_count": null,
   "metadata": {},
   "outputs": [],
   "source": []
  },
  {
   "cell_type": "code",
   "execution_count": null,
   "metadata": {},
   "outputs": [],
   "source": []
  },
  {
   "cell_type": "code",
   "execution_count": 104,
   "metadata": {},
   "outputs": [],
   "source": [
    "# plt.plot(x, y)"
   ]
  },
  {
   "cell_type": "code",
   "execution_count": null,
   "metadata": {},
   "outputs": [],
   "source": []
  },
  {
   "cell_type": "code",
   "execution_count": null,
   "metadata": {},
   "outputs": [],
   "source": []
  },
  {
   "cell_type": "code",
   "execution_count": null,
   "metadata": {},
   "outputs": [],
   "source": []
  },
  {
   "cell_type": "code",
   "execution_count": null,
   "metadata": {},
   "outputs": [],
   "source": []
  }
 ],
 "metadata": {
  "kernelspec": {
   "display_name": "Python 3",
   "language": "python",
   "name": "python3"
  },
  "language_info": {
   "codemirror_mode": {
    "name": "ipython",
    "version": 3
   },
   "file_extension": ".py",
   "mimetype": "text/x-python",
   "name": "python",
   "nbconvert_exporter": "python",
   "pygments_lexer": "ipython3",
   "version": "3.7.6"
  }
 },
 "nbformat": 4,
 "nbformat_minor": 4
}
